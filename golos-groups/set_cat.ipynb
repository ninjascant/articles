{
 "cells": [
  {
   "cell_type": "code",
   "execution_count": 2,
   "metadata": {
    "scrolled": true
   },
   "outputs": [
    {
     "name": "stderr",
     "output_type": "stream",
     "text": [
      "d:\\Users\\Alexandra\\Anaconda3\\lib\\site-packages\\pandas\\io\\formats\\format.py:1586: FutureWarning: \n",
      "Passing list-likes to .loc or [] with any missing label will raise\n",
      "KeyError in the future, you can use .reindex() as an alternative.\n",
      "\n",
      "See the documentation here:\n",
      "http://pandas.pydata.org/pandas-docs/stable/indexing.html#deprecate-loc-reindex-listlike\n",
      "  self.obj = self.obj.loc[:, cols]\n",
      "d:\\Users\\Alexandra\\Anaconda3\\lib\\site-packages\\pandas\\core\\indexing.py:1367: FutureWarning: \n",
      "Passing list-likes to .loc or [] with any missing label will raise\n",
      "KeyError in the future, you can use .reindex() as an alternative.\n",
      "\n",
      "See the documentation here:\n",
      "http://pandas.pydata.org/pandas-docs/stable/indexing.html#deprecate-loc-reindex-listlike\n",
      "  return self._getitem_tuple(key)\n"
     ]
    }
   ],
   "source": [
    "import pandas as pd\n",
    "from datetime import datetime\n",
    "from datetime import timedelta\n",
    "import math \n",
    "\n",
    "all_posts_df = pd.read_csv('./feb-week-2/all.csv')\n",
    "# all_posts_df = pd.read_csv('./csv_data/week_2_all_posts.csv')\n",
    "vp_posts_df = pd.read_csv('./feb-week-2/vox.csv')\n",
    "gm_posts_df = pd.read_csv('./feb-week-2/golosmedia.csv')\n",
    "psk_posts_df = pd.read_csv('./feb-week-2/psk.csv')\n",
    "otkat_posts_df = pd.read_csv('./feb-week-2/50.csv')\n",
    "\n",
    "payouts_sum = {\n",
    "    5: 135401.7980,\n",
    "    6: 94163.3620,\n",
    "    7: 73940.1400,\n",
    "    8: 91740.3930,\n",
    "    9: 111038.4230,\n",
    "    10: 108335.4760,\n",
    "    11: 85414.8100\n",
    "}\n",
    "\n",
    "def getCategory(row):\n",
    "    dateobj = datetime.strptime(row['created'], '%Y-%m-%dT%H:%M:%SZ') + timedelta(hours=5)\n",
    "    row['day'] = dateobj.day\n",
    "    '''if row['day'] == 29:\n",
    "        row['day_num'] = 1\n",
    "    if row['day'] == 30:\n",
    "        row['day_num'] = 2\n",
    "    if row['day'] == 31:\n",
    "        row['day_num'] = 3\n",
    "    if row['day'] == 1:\n",
    "        row['day_num'] = 4\n",
    "    if row['day'] == 2:\n",
    "        row['day_num'] = 5\n",
    "    if row['day'] == 3:\n",
    "        row['day_num'] = 6\n",
    "    if row['day'] == 4:\n",
    "        row['day_num'] = 7\n",
    "    '''\n",
    "    isVp = vp_posts_df.loc[vp_posts_df['permlink'] == row['permlink']]\n",
    "    isGm = gm_posts_df.loc[gm_posts_df['permlink'] == row['permlink']]\n",
    "    isPsk = psk_posts_df.loc[psk_posts_df['permlink'] == row['permlink']]\n",
    "    isOtkat = otkat_posts_df.loc[otkat_posts_df['permlink'] == row['permlink']]\n",
    "    '''\n",
    "    if row['author_reputation'] > 0:\n",
    "        row['author_reputation'] = (math.log10(row['author_reputation']) - 9) * 9 + 25\n",
    "    else:\n",
    "        row['author_reputation'] = 0\n",
    "    if row['author_reputation'] < 25:\n",
    "        row['rep_group'] = '0-25'\n",
    "    elif row['author_reputation'] > 25 and row['author_reputation'] < 50:\n",
    "        row['rep_group'] = '25-50'\n",
    "    elif row['author_reputation'] > 50 and row['author_reputation'] < 60:\n",
    "        row['rep_group'] = '50-60'\n",
    "    elif row['author_reputation'] > 60 and row['author_reputation'] < 65:\n",
    "        row['rep_group'] = '60-65'\n",
    "    elif row['author_reputation'] > 65 and row['author_reputation'] < 70:\n",
    "        row['rep_group'] = '65-70'\n",
    "    elif row['author_reputation'] > 70:\n",
    "        row['rep_group'] = '70+'\n",
    "     '''   \n",
    "    if isVp.empty == False:\n",
    "        row['cat'] = 'Vox Populi'\n",
    "    elif isGm.empty == False:\n",
    "        row['cat'] = 'Golosmedia'\n",
    "    elif isPsk.empty == False:\n",
    "        row['cat'] = 'PSK'\n",
    "    elif isOtkat.empty == False:\n",
    "        row['cat'] = 'Апвот 50-50'\n",
    "    else:\n",
    "        row['cat'] = 'Независимые авторы'\n",
    "    row['percent'] = row['total_payout_value'] * 100 / payouts_sum[row['day']]\n",
    "    return row\n",
    "\n",
    "all_posts_df = all_posts_df.apply(getCategory, axis=1)\n",
    "\n",
    "all_posts_df.to_csv('./feb-week-2/all_cat.csv', na_rep = 'NA', index=False, columns = ['cat', 'author', 'permlink', 'author_reputation', 'rep_group', 'created', 'day', 'day_num', 'percent', 'total_payout_value'])"
   ]
  },
  {
   "cell_type": "code",
   "execution_count": null,
   "metadata": {
    "collapsed": true
   },
   "outputs": [],
   "source": []
  }
 ],
 "metadata": {
  "kernelspec": {
   "display_name": "Python 3",
   "language": "python",
   "name": "python3"
  },
  "language_info": {
   "codemirror_mode": {
    "name": "ipython",
    "version": 3
   },
   "file_extension": ".py",
   "mimetype": "text/x-python",
   "name": "python",
   "nbconvert_exporter": "python",
   "pygments_lexer": "ipython3",
   "version": "3.6.3"
  }
 },
 "nbformat": 4,
 "nbformat_minor": 2
}
