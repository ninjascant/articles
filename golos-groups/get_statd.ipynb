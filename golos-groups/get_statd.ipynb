{
 "cells": [
  {
   "cell_type": "markdown",
   "metadata": {},
   "source": [
    "First of all we load list of posts and split it by category ('psk', 'vp' etc). After this, we count some stats for every group. Eventually, we convert grouped and counted data, print it and save to csv files"
   ]
  },
  {
   "cell_type": "code",
   "execution_count": 27,
   "metadata": {},
   "outputs": [
    {
     "name": "stdout",
     "output_type": "stream",
     "text": [
      "           cat  sum_payouts_cat  mean_pay_cat  median_pay_cat  \\\n",
      "0           gm       390446.776   5276.307784        5365.083   \n",
      "1  independent       105925.145     13.650148           0.033   \n",
      "2        otkat      1138835.626    777.893187           0.070   \n",
      "3          psk       427501.307   3592.447958        1746.992   \n",
      "4           vp       280449.322    599.250688         260.279   \n",
      "\n",
      "   posts_count_cat  authors_count_cat  min_pay_cat  max_pay_cat  \n",
      "0               74                  5      525.376     8969.992  \n",
      "1             7760               1796        0.000     7306.352  \n",
      "2             1464                256        0.000    11370.795  \n",
      "3              119                 58        0.000    11178.919  \n",
      "4              468                 39        0.000     8917.064  \n",
      "9885 7742 2143\n"
     ]
    }
   ],
   "source": [
    "import pandas as pd\n",
    "\n",
    "categories_df = pd.read_csv('./csv_data/week_2_all_with_cat.csv')\n",
    "lower_than_one = categories_df.drop(categories_df[categories_df.total_payout_value > 1].index)\n",
    "groupped_df = categories_df.groupby('cat')\n",
    "grouped_values_df = pd.DataFrame()\n",
    "\n",
    "grouped_values_df['sum_payouts'] = groupped_df['total_payout_value'].sum()\n",
    "grouped_values_df['mean_pay'] = groupped_df['total_payout_value'].mean()\n",
    "grouped_values_df['median_pay'] = groupped_df['total_payout_value'].median()\n",
    "grouped_values_df['posts_count'] = groupped_df['permlink'].count()\n",
    "grouped_values_df['authors_count'] = groupped_df['author'].nunique()\n",
    "grouped_values_df['min_pay'] = groupped_df['total_payout_value'].min()\n",
    "grouped_values_df['max_pay'] = groupped_df['total_payout_value'].max()\n",
    "\n",
    "print(grouped_values_df.add_suffix('_cat').reset_index())\n",
    "print(categories_df.shape[0], lower_than_one.shape[0], categories_df.shape[0] - lower_than_one.shape[0])\n",
    "grouped_values_df.add_suffix('_cat').reset_index().to_csv('./csv_data/week_2_counted_stats.csv', index=False)\n",
    "lower_than_one.to_csv('./csv_data/lower_than_one.csv', columns=['author', 'permlink', 'total_payout_value', 'created'])"
   ]
  },
  {
   "cell_type": "code",
   "execution_count": null,
   "metadata": {
    "collapsed": true
   },
   "outputs": [],
   "source": [
    "(ggplot)"
   ]
  }
 ],
 "metadata": {
  "kernelspec": {
   "display_name": "Python 3",
   "language": "python",
   "name": "python3"
  },
  "language_info": {
   "codemirror_mode": {
    "name": "ipython",
    "version": 3
   },
   "file_extension": ".py",
   "mimetype": "text/x-python",
   "name": "python",
   "nbconvert_exporter": "python",
   "pygments_lexer": "ipython3",
   "version": "3.6.3"
  }
 },
 "nbformat": 4,
 "nbformat_minor": 2
}
